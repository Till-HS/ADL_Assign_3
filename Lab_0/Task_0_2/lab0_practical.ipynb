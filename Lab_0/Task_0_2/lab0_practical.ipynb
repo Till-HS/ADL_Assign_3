{
  "cells": [
    {
      "cell_type": "markdown",
      "source": [
        "# Task 0.2.1"
      ],
      "metadata": {
        "id": "sChr4DVmXJKT"
      }
    },
    {
      "cell_type": "markdown",
      "source": [
        "Preparing CIFAR-10 Dataset (Resizing Images to 224x224)"
      ],
      "metadata": {
        "id": "OxnNgvh-zcAj"
      }
    },
    {
      "cell_type": "code",
      "execution_count": 11,
      "metadata": {
        "id": "JQlOLNppOoiD"
      },
      "outputs": [],
      "source": [
        "import torch\n",
        "import torchvision\n",
        "import torchvision.transforms as transforms\n",
        "from torch.utils.data import DataLoader\n",
        "\n",
        "transform = transforms.Compose([\n",
        "    transforms.Resize((224, 224)),  # Resize CIFAR-10 images to 224x224\n",
        "    transforms.ToTensor(),\n",
        "    transforms.Normalize(mean=[0.485, 0.456, 0.406], std=[0.229, 0.224, 0.225])  # Normalization values for ImageNet\n",
        "])\n",
        "\n",
        "trainset = torchvision.datasets.CIFAR10(root='./data', train=True, download=True, transform=transform)\n",
        "testset = torchvision.datasets.CIFAR10(root='./data', train=False, download=True, transform=transform)\n",
        "\n",
        "trainloader = DataLoader(trainset, batch_size=64, shuffle=True)\n",
        "testloader = DataLoader(testset, batch_size=64, shuffle=False)"
      ]
    },
    {
      "cell_type": "markdown",
      "source": [
        "Load and Modify AlexNet"
      ],
      "metadata": {
        "id": "okZvfHvIzhDK"
      }
    },
    {
      "cell_type": "code",
      "execution_count": 12,
      "metadata": {
        "id": "1ICOeyjIOoiE"
      },
      "outputs": [],
      "source": [
        "import torch.nn as nn\n",
        "import torchvision.models as models\n",
        "\n",
        "# Load pre-trained AlexNet model\n",
        "alexnet = models.alexnet(pretrained=True)\n",
        "\n",
        "# Modify the classifier to match CIFAR-10 (10 classes)\n",
        "alexnet.classifier[6] = nn.Linear(in_features=4096, out_features=10)\n",
        "alexnet = alexnet.to('cuda' if torch.cuda.is_available() else 'cpu')\n"
      ]
    },
    {
      "cell_type": "markdown",
      "source": [
        "Fine-Tuning (Training the Model from Scratch on CIFAR-10)"
      ],
      "metadata": {
        "id": "luDDUC6BzLA6"
      }
    },
    {
      "cell_type": "code",
      "source": [
        "import torch\n",
        "import torch.optim as optim\n",
        "import torch.nn as nn\n",
        "\n",
        "# Define the device (GPU if available, otherwise CPU)\n",
        "device = torch.device('cuda' if torch.cuda.is_available() else 'cpu')\n",
        "alexnet = alexnet.to(device)\n",
        "\n",
        "criterion = nn.CrossEntropyLoss()\n",
        "optimizer = optim.Adam(alexnet.parameters(), lr=0.001)\n",
        "\n",
        "def train(model, trainloader, criterion, optimizer, num_epochs=5):\n",
        "    model.train()\n",
        "    for epoch in range(num_epochs):\n",
        "        running_loss = 0.0\n",
        "        for inputs, labels in trainloader:\n",
        "            inputs, labels = inputs.to(device), labels.to(device)\n",
        "            optimizer.zero_grad()\n",
        "            outputs = model(inputs)\n",
        "            loss = criterion(outputs, labels)\n",
        "            loss.backward()\n",
        "            optimizer.step()\n",
        "            running_loss += loss.item()\n",
        "\n",
        "        print(f\"Epoch [{epoch+1}/{num_epochs}], Loss: {running_loss/len(trainloader)}\")\n",
        "\n",
        "train(alexnet, trainloader, criterion, optimizer)\n"
      ],
      "metadata": {
        "colab": {
          "base_uri": "https://localhost:8080/"
        },
        "id": "m0B8LmlFW5iv",
        "outputId": "7d91fca0-5c0c-4f16-b97c-b0d80277f1fe"
      },
      "execution_count": 13,
      "outputs": [
        {
          "output_type": "stream",
          "name": "stdout",
          "text": [
            "Epoch [1/5], Loss: 1.6497810629322707\n",
            "Epoch [2/5], Loss: 1.2084222049511912\n",
            "Epoch [3/5], Loss: 1.0414999508491867\n",
            "Epoch [4/5], Loss: 0.9513980535899892\n",
            "Epoch [5/5], Loss: 0.8906555700942379\n"
          ]
        }
      ]
    },
    {
      "cell_type": "code",
      "source": [
        "def test(model, testloader):\n",
        "    model.eval()\n",
        "    correct = 0\n",
        "    total = 0\n",
        "    with torch.no_grad():\n",
        "        for inputs, labels in testloader:\n",
        "            inputs, labels = inputs.to(device), labels.to(device)\n",
        "            outputs = model(inputs)\n",
        "            _, predicted = torch.max(outputs, 1)\n",
        "            total += labels.size(0)\n",
        "            correct += (predicted == labels).sum().item()\n",
        "\n",
        "    accuracy = 100 * correct / total\n",
        "    print(f\"Test Accuracy: {accuracy}%\")\n",
        "\n",
        "test(alexnet, testloader)\n"
      ],
      "metadata": {
        "colab": {
          "base_uri": "https://localhost:8080/"
        },
        "id": "B05xNWjFW7BT",
        "outputId": "ef37d793-c57f-4253-b3c2-e92d3b6a75d2"
      },
      "execution_count": 14,
      "outputs": [
        {
          "output_type": "stream",
          "name": "stdout",
          "text": [
            "Test Accuracy: 68.65%\n"
          ]
        }
      ]
    },
    {
      "cell_type": "markdown",
      "source": [
        "Feature Extraction (Using Pretrained AlexNet)"
      ],
      "metadata": {
        "id": "rpHlyBjUzR1Y"
      }
    },
    {
      "cell_type": "code",
      "source": [
        "import torch.optim as optim\n",
        "import torch.nn as nn\n",
        "\n",
        "device = torch.device('cuda' if torch.cuda.is_available() else 'cpu')\n",
        "\n",
        "alexnet = models.alexnet(pretrained=True)\n",
        "alexnet = alexnet.to(device)\n",
        "\n",
        "for param in alexnet.parameters():\n",
        "    param.requires_grad = False\n",
        "\n",
        "alexnet.classifier[6] = nn.Linear(in_features=4096, out_features=10)\n",
        "\n",
        "criterion = nn.CrossEntropyLoss()\n",
        "optimizer = optim.Adam(alexnet.classifier[6].parameters(), lr=0.001)\n",
        "\n",
        "def train(model, trainloader, criterion, optimizer, num_epochs=5):\n",
        "    model.train()\n",
        "    for epoch in range(num_epochs):\n",
        "        running_loss = 0.0\n",
        "        for inputs, labels in trainloader:\n",
        "            inputs, labels = inputs.to(device), labels.to(device)\n",
        "            optimizer.zero_grad()\n",
        "            outputs = model(inputs)\n",
        "            loss = criterion(outputs, labels)\n",
        "            loss.backward()\n",
        "            optimizer.step()\n",
        "            running_loss += loss.item()\n",
        "\n",
        "        print(f\"Epoch [{epoch+1}/{num_epochs}], Loss: {running_loss/len(trainloader)}\")\n",
        "\n",
        "train(alexnet, trainloader, criterion, optimizer)\n"
      ],
      "metadata": {
        "colab": {
          "base_uri": "https://localhost:8080/"
        },
        "id": "Hr9iICBZW-po",
        "outputId": "a0335044-647e-49da-cafb-f70d7852d537"
      },
      "execution_count": 16,
      "outputs": [
        {
          "output_type": "stream",
          "name": "stdout",
          "text": [
            "Epoch [1/5], Loss: 0.718656501654164\n",
            "Epoch [2/5], Loss: 0.6343417854412742\n",
            "Epoch [3/5], Loss: 0.6041440393804284\n",
            "Epoch [4/5], Loss: 0.5964872168038812\n",
            "Epoch [5/5], Loss: 0.5897629441278974\n"
          ]
        }
      ]
    },
    {
      "cell_type": "code",
      "source": [
        "def test(model, testloader):\n",
        "    model.eval()\n",
        "    correct = 0\n",
        "    total = 0\n",
        "    with torch.no_grad():\n",
        "        for inputs, labels in testloader:\n",
        "            inputs, labels = inputs.to(device), labels.to(device)\n",
        "            outputs = model(inputs)\n",
        "            _, predicted = torch.max(outputs, 1)\n",
        "            total += labels.size(0)\n",
        "            correct += (predicted == labels).sum().item()\n",
        "\n",
        "    accuracy = 100 * correct / total\n",
        "    print(f\"Test Accuracy: {accuracy}%\")\n",
        "\n",
        "test(alexnet, testloader)"
      ],
      "metadata": {
        "colab": {
          "base_uri": "https://localhost:8080/"
        },
        "id": "jMLxTYtomos8",
        "outputId": "f90a5530-0464-41dd-acd0-069db4e36a37"
      },
      "execution_count": 17,
      "outputs": [
        {
          "output_type": "stream",
          "name": "stdout",
          "text": [
            "Test Accuracy: 81.33%\n"
          ]
        }
      ]
    },
    {
      "cell_type": "markdown",
      "source": [
        "# Task 0.2.2"
      ],
      "metadata": {
        "id": "GtGZkF-KnxmS"
      }
    },
    {
      "cell_type": "markdown",
      "source": [
        "Import Libraries and Load the MNIST Dataset"
      ],
      "metadata": {
        "id": "T6CD_C5vsv1g"
      }
    },
    {
      "cell_type": "code",
      "source": [
        "import torch\n",
        "import torch.nn as nn\n",
        "import torch.optim as optim\n",
        "import torchvision\n",
        "import torchvision.transforms as transforms\n",
        "from torch.utils.data import DataLoader\n",
        "import matplotlib.pyplot as plt\n",
        "\n",
        "transform = transforms.Compose([\n",
        "    transforms.Grayscale(3),\n",
        "    transforms.ToTensor(),\n",
        "    transforms.Normalize((0.5, 0.5, 0.5), (0.5, 0.5, 0.5))\n",
        "])\n",
        "\n",
        "trainset = torchvision.datasets.MNIST(root='./data', train=True, download=True, transform=transform)\n",
        "testset = torchvision.datasets.MNIST(root='./data', train=False, download=True, transform=transform)\n",
        "\n",
        "trainloader = DataLoader(trainset, batch_size=64, shuffle=True)\n",
        "testloader = DataLoader(testset, batch_size=64, shuffle=False)\n"
      ],
      "metadata": {
        "id": "bMupZcIDnyy8"
      },
      "execution_count": 29,
      "outputs": []
    },
    {
      "cell_type": "markdown",
      "source": [
        "Define a CNN Model"
      ],
      "metadata": {
        "id": "mWi-InVPstw2"
      }
    },
    {
      "cell_type": "code",
      "source": [
        "class CNN_MNIST(nn.Module):\n",
        "    def __init__(self):\n",
        "        super(CNN_MNIST, self).__init__()\n",
        "        self.conv1 = nn.Conv2d(3, 32, kernel_size=3, padding=1)\n",
        "        self.conv2 = nn.Conv2d(32, 64, kernel_size=3, padding=1)\n",
        "        self.conv3 = nn.Conv2d(64, 128, kernel_size=3, padding=1)\n",
        "        self.fc1 = nn.Linear(128*4*4, 128)\n",
        "        self.fc2 = nn.Linear(128, 10)\n",
        "\n",
        "    def forward(self, x):\n",
        "        x = torch.relu(self.conv1(x))\n",
        "        x = torch.max_pool2d(x, 2)\n",
        "        x = torch.relu(self.conv2(x))\n",
        "        x = torch.max_pool2d(x, 2)\n",
        "        x = torch.relu(self.conv3(x))\n",
        "        x = torch.max_pool2d(x, 2)\n",
        "        x = x.view(-1, 128*4*4)\n",
        "        x = torch.relu(self.fc1(x))\n",
        "        x = self.fc2(x)\n",
        "        return x\n",
        "\n",
        "model = CNN_MNIST().cuda()\n"
      ],
      "metadata": {
        "id": "ZrIgFk34n2lt"
      },
      "execution_count": 30,
      "outputs": []
    },
    {
      "cell_type": "markdown",
      "source": [
        "Train the Model on MNIST"
      ],
      "metadata": {
        "id": "90zRZarEsr6D"
      }
    },
    {
      "cell_type": "code",
      "source": [
        "criterion = nn.CrossEntropyLoss()\n",
        "optimizer = optim.Adam(model.parameters(), lr=0.001)\n",
        "\n",
        "num_epochs = 5\n",
        "for epoch in range(num_epochs):\n",
        "    model.train()\n",
        "    running_loss = 0.0\n",
        "    correct = 0\n",
        "    total = 0\n",
        "    for inputs, labels in trainloader:\n",
        "        inputs, labels = inputs.cuda(), labels.cuda()\n",
        "        optimizer.zero_grad()\n",
        "\n",
        "        outputs = model(inputs)\n",
        "        loss = criterion(outputs, labels)\n",
        "\n",
        "        loss.backward()\n",
        "        optimizer.step()\n",
        "\n",
        "        running_loss += loss.item()\n",
        "\n",
        "        _, predicted = torch.max(outputs, 1)\n",
        "        total += labels.size(0)\n",
        "        correct += (predicted == labels).sum().item()\n",
        "\n",
        "    print(f'Epoch [{epoch+1}/{num_epochs}], Loss: {running_loss/len(trainloader):.4f}, Accuracy: {100*correct/total:.2f}%')\n",
        "\n",
        "torch.save(model.state_dict(), 'mnist_cnn.pth')\n"
      ],
      "metadata": {
        "colab": {
          "base_uri": "https://localhost:8080/"
        },
        "id": "TDwWrUkxn5v0",
        "outputId": "9b036be8-25f7-4059-994a-030ef2919a9f"
      },
      "execution_count": 31,
      "outputs": [
        {
          "output_type": "stream",
          "name": "stdout",
          "text": [
            "Epoch [1/5], Loss: 0.1619, Accuracy: 94.98%\n",
            "Epoch [2/5], Loss: 0.0422, Accuracy: 98.67%\n",
            "Epoch [3/5], Loss: 0.0295, Accuracy: 99.07%\n",
            "Epoch [4/5], Loss: 0.0239, Accuracy: 99.22%\n",
            "Epoch [5/5], Loss: 0.0193, Accuracy: 99.38%\n"
          ]
        }
      ]
    },
    {
      "cell_type": "markdown",
      "source": [
        "Evaluate the Model on MNIST Test Set"
      ],
      "metadata": {
        "id": "vk94RN0AsqZp"
      }
    },
    {
      "cell_type": "code",
      "source": [
        "model.eval()\n",
        "correct = 0\n",
        "total = 0\n",
        "with torch.no_grad():\n",
        "    for inputs, labels in testloader:\n",
        "        inputs, labels = inputs.cuda(), labels.cuda()\n",
        "        outputs = model(inputs)\n",
        "        _, predicted = torch.max(outputs, 1)\n",
        "        total += labels.size(0)\n",
        "        correct += (predicted == labels).sum().item()\n",
        "\n",
        "print(f'MNIST Test Accuracy: {100 * correct / total:.2f}%')\n"
      ],
      "metadata": {
        "colab": {
          "base_uri": "https://localhost:8080/"
        },
        "id": "A5hqdrUqn7i5",
        "outputId": "b35dd6e7-0a59-4389-de69-e6e96c625b6e"
      },
      "execution_count": 32,
      "outputs": [
        {
          "output_type": "stream",
          "name": "stdout",
          "text": [
            "MNIST Test Accuracy: 98.96%\n"
          ]
        }
      ]
    },
    {
      "cell_type": "markdown",
      "source": [
        "Load the SVHN Dataset"
      ],
      "metadata": {
        "id": "caNzlPbfsnEz"
      }
    },
    {
      "cell_type": "code",
      "source": [
        "svhn_trainset = torchvision.datasets.SVHN(root='./data', split='train', download=True, transform=transform)\n",
        "svhn_testset = torchvision.datasets.SVHN(root='./data', split='test', download=True, transform=transform)\n",
        "\n",
        "svhn_trainloader = DataLoader(svhn_trainset, batch_size=64, shuffle=True)\n",
        "svhn_testloader = DataLoader(svhn_testset, batch_size=64, shuffle=False)\n"
      ],
      "metadata": {
        "id": "eGGJh6kwsA4M"
      },
      "execution_count": 41,
      "outputs": []
    },
    {
      "cell_type": "markdown",
      "source": [
        "Define the CNN Architecture for SVHN"
      ],
      "metadata": {
        "id": "ZBx4otYaslj1"
      }
    },
    {
      "cell_type": "code",
      "source": [
        "import torch\n",
        "import torch.nn as nn\n",
        "\n",
        "class CNN_SVHN(nn.Module):\n",
        "    def __init__(self):\n",
        "        super(CNN_SVHN, self).__init__()\n",
        "        self.conv1 = nn.Conv2d(3, 32, kernel_size=3, padding=1)\n",
        "        self.conv2 = nn.Conv2d(32, 64, kernel_size=3, padding=1)\n",
        "        self.conv3 = nn.Conv2d(64, 128, kernel_size=3, padding=1)\n",
        "        self.fc1 = nn.Linear(128*4*4, 128)\n",
        "        self.fc2 = nn.Linear(128, 10)\n",
        "\n",
        "    def forward(self, x):\n",
        "        x = torch.relu(self.conv1(x))\n",
        "        x = torch.max_pool2d(x, 2)\n",
        "        x = torch.relu(self.conv2(x))\n",
        "        x = torch.max_pool2d(x, 2)\n",
        "        x = torch.relu(self.conv3(x))\n",
        "        x = torch.max_pool2d(x, 2)\n",
        "        x = x.view(-1, 128*4*4)\n",
        "        x = torch.relu(self.fc1(x))\n",
        "        x = self.fc2(x)\n",
        "        return x\n"
      ],
      "metadata": {
        "id": "bd9njDoCsEBJ"
      },
      "execution_count": 42,
      "outputs": []
    },
    {
      "cell_type": "markdown",
      "source": [
        "Load Pre-Trained Model Weights from MNIST"
      ],
      "metadata": {
        "id": "I_5OAnYxsjkC"
      }
    },
    {
      "cell_type": "code",
      "source": [
        "model_svhn = CNN_SVHN().cuda()\n",
        "\n",
        "model_svhn.load_state_dict(torch.load('mnist_cnn.pth'), strict=False)\n",
        "\n",
        "for param in model_svhn.parameters():\n",
        "    param.requires_grad = False\n",
        "\n",
        "# Unfreeze last convolutional layer conv3\n",
        "for param in model_svhn.conv3.parameters():\n",
        "    param.requires_grad = True\n",
        "\n",
        "#Unfreeze last output layer fc2\n",
        "for param in model_svhn.fc2.parameters():\n",
        "    param.requires_grad = True\n"
      ],
      "metadata": {
        "id": "7qEDEXGZsF3D"
      },
      "execution_count": 47,
      "outputs": []
    },
    {
      "cell_type": "markdown",
      "source": [
        "Feature Extraction on the Model on SVHN, only updating weights of the last fully connected layer."
      ],
      "metadata": {
        "id": "FxvZzTtisbqi"
      }
    },
    {
      "cell_type": "code",
      "source": [
        "import torch.optim as optim\n",
        "\n",
        "criterion = nn.CrossEntropyLoss()\n",
        "optimizer = optim.Adam(model_svhn.fc2.parameters(), lr=0.001)  # Only optimize last layer\n",
        "\n",
        "num_epochs = 5\n",
        "for epoch in range(num_epochs):\n",
        "    model_svhn.train()\n",
        "    running_loss = 0.0\n",
        "    correct = 0\n",
        "    total = 0\n",
        "    for inputs, labels in svhn_trainloader:\n",
        "        inputs, labels = inputs.cuda(), labels.cuda()\n",
        "\n",
        "        optimizer.zero_grad()\n",
        "\n",
        "        outputs = model_svhn(inputs)\n",
        "        loss = criterion(outputs, labels)\n",
        "\n",
        "        loss.backward()\n",
        "        optimizer.step()\n",
        "\n",
        "        running_loss += loss.item()\n",
        "\n",
        "        _, predicted = torch.max(outputs, 1)\n",
        "        total += labels.size(0)\n",
        "        correct += (predicted == labels).sum().item()\n",
        "\n",
        "    print(f'Epoch [{epoch+1}/{num_epochs}], Loss: {running_loss/len(svhn_trainloader):.4f}, Accuracy: {100*correct/total:.2f}%')\n",
        "\n",
        "torch.save(model_svhn.state_dict(), 'svhn_cnn_finetuned.pth')\n"
      ],
      "metadata": {
        "colab": {
          "base_uri": "https://localhost:8080/"
        },
        "id": "6Dh9Bap1sIVl",
        "outputId": "eb8206db-b377-4d9e-d075-6b338908157d"
      },
      "execution_count": 48,
      "outputs": [
        {
          "output_type": "stream",
          "name": "stdout",
          "text": [
            "Epoch [1/5], Loss: 1.7329, Accuracy: 42.27%\n",
            "Epoch [2/5], Loss: 1.6226, Accuracy: 45.78%\n",
            "Epoch [3/5], Loss: 1.5861, Accuracy: 47.08%\n",
            "Epoch [4/5], Loss: 1.5662, Accuracy: 47.80%\n",
            "Epoch [5/5], Loss: 1.5531, Accuracy: 48.13%\n"
          ]
        }
      ]
    },
    {
      "cell_type": "markdown",
      "source": [
        "Evaluate the Fine-Tuned Model on the SVHN Test Set"
      ],
      "metadata": {
        "id": "hUIfW7P_sOhG"
      }
    },
    {
      "cell_type": "code",
      "source": [
        "model_svhn.eval()\n",
        "correct = 0\n",
        "total = 0\n",
        "\n",
        "with torch.no_grad():\n",
        "    for inputs, labels in svhn_testloader:\n",
        "        inputs, labels = inputs.cuda(), labels.cuda()\n",
        "\n",
        "        outputs = model_svhn(inputs)\n",
        "\n",
        "        _, predicted = torch.max(outputs, 1)\n",
        "\n",
        "        total += labels.size(0)\n",
        "        correct += (predicted == labels).sum().item()\n",
        "\n",
        "print(f'SVHN Test Accuracy (with pre-trained CNN): {100 * correct / total:.2f}%')\n"
      ],
      "metadata": {
        "colab": {
          "base_uri": "https://localhost:8080/"
        },
        "id": "v1-ptEZ1sT4F",
        "outputId": "bb12a3ab-a500-4679-98a0-2669edef52ae"
      },
      "execution_count": 50,
      "outputs": [
        {
          "output_type": "stream",
          "name": "stdout",
          "text": [
            "SVHN Test Accuracy (with pre-trained CNN): 51.01%\n"
          ]
        }
      ]
    }
  ],
  "metadata": {
    "kernelspec": {
      "display_name": "Python 3",
      "name": "python3"
    },
    "language_info": {
      "codemirror_mode": {
        "name": "ipython",
        "version": 3
      },
      "file_extension": ".py",
      "mimetype": "text/x-python",
      "name": "python",
      "nbconvert_exporter": "python",
      "pygments_lexer": "ipython3",
      "version": "3.11.0"
    },
    "colab": {
      "provenance": [],
      "gpuType": "T4"
    },
    "accelerator": "GPU"
  },
  "nbformat": 4,
  "nbformat_minor": 0
}